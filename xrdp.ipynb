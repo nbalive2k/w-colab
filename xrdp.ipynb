{
  "nbformat": 4,
  "nbformat_minor": 0,
  "metadata": {
    "colab": {
      "name": "xrdp.ipynb",
      "private_outputs": true,
      "provenance": [],
      "collapsed_sections": []
    },
    "kernelspec": {
      "name": "python3",
      "display_name": "Python 3"
    },
    "language_info": {
      "name": "python"
    }
  },
  "cells": [
    {
      "cell_type": "code",
      "metadata": {
        "id": "t4yNp3KmLtZ6",
        "cellView": "form"
      },
      "source": [
        "#@title **Create User**\n",
        "import os\n",
        "username = \"akuhnet\" #@param {type:\"string\"}\n",
        "password = \"123456\" #@param {type:\"string\"}\n",
        "\n",
        "print(\"Creating User and Setting it up\")\n",
        "\n",
        "# Creat user\n",
        "os.system(f\"useradd -m {username}\")\n",
        "\n",
        "# Add user to sudo group\n",
        "os.system(f\"adduser {username} sudo\")\n",
        "    \n",
        "# Set password user to 'root'\n",
        "os.system(f\"echo '{username}:{password}' | sudo chpasswd\")\n",
        "\n",
        "# Change default shell from sh to bash\n",
        "os.system(\"sed -i 's/\\/bin\\/sh/\\/bin\\/bash/g' /etc/passwd\")\n",
        "\n",
        "print(\"User Created and Configured\")"
      ],
      "execution_count": null,
      "outputs": []
    },
    {
      "cell_type": "code",
      "metadata": {
        "cellView": "form",
        "id": "B9qlI8Fr4nr1"
      },
      "source": [
        "#@title **Google Drive Mount**\n",
        "#@markdown Google Drive used as Persistance HDD for files<br>\n",
        "#@markdown Mounted at Home directory\n",
        "\n",
        "\n",
        "def MountGDrive():\n",
        "    from os import environ as env\n",
        "    from google.colab import drive\n",
        "\n",
        "    config = env['CLOUDSDK_CONFIG']\n",
        "    addr = env['TBE_CREDS_ADDR']\n",
        "\n",
        "    ! runuser -l $user -c \"yes | python3 -m pip install --user google-colab\"  > /dev/null 2>&1\n",
        "\n",
        "    mount = \"\"\"from os import environ as env\n",
        "from google.colab import drive\n",
        "\n",
        "env['CLOUDSDK_CONFIG']  = '{config}'\n",
        "env['TBE_CREDS_ADDR'] = '{addr}'\n",
        "\n",
        "drive.mount('{mountpoint}')\"\"\".format(config=config, addr=addr, mountpoint=mountpoint)\n",
        "\n",
        "    with open('/content/mount.py', 'w') as script:\n",
        "        script.write(mount)\n",
        "\n",
        "    ! runuser -l $user -c \"python3 /content/mount.py\"\n",
        "\n",
        "try:\n",
        "    mountpoint = f\"/home/{username}/drive\"\n",
        "    user = username\n",
        "except NameError:\n",
        "    print(\"username variable not found, mounting at `/content/drive' using `root'\")\n",
        "    mountpoint = '/content/drive'\n",
        "    user = 'akuhnet'\n",
        "\n",
        "MountGDrive()"
      ],
      "execution_count": null,
      "outputs": []
    },
    {
      "cell_type": "code",
      "metadata": {
        "id": "vk2qtOTGIFsQ",
        "cellView": "form"
      },
      "source": [
        "#@title **Start RDP**\n",
        "#@markdown UPDATE<br>\n",
        "#@markdown Connect with RDP<br><br>\n",
        "#@markdown [Ngrok Auth Token](https://dashboard.ngrok.com/get-started/your-authtoken)<br><br>\n",
        "#@markdown Other Free VPS\n",
        "#@markdown [akuh.net](https://www.akuh.net/)\n",
        "! wget -O xfce4.sh https://bit.ly/3v44VUJ > /dev/null 2>&1\n",
        "! chmod +x xfce4.sh\n",
        "! ./xfce4.sh"
      ],
      "execution_count": null,
      "outputs": []
    }
  ]
}
